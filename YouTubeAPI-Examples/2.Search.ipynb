{
 "cells": [
  {
   "cell_type": "markdown",
   "metadata": {},
   "source": [
    "# YouTube Data API (Search content)\n",
    "\n",
    "![](https://lh3.googleusercontent.com/j2SJC1grxLdL94kX7uB9WclD_nqX49oJs3K82Tok1MaPcx4TvB2m7xmw-Ub4dvFORwPSzruQBWePxtizfuY1r3j4GQvi1G9z=s688)\n",
    "\n",
    "[console.developers.google.com](https://console.developers.google.com/cloud-resource-manager)"
   ]
  },
  {
   "cell_type": "code",
   "execution_count": 1,
   "metadata": {},
   "outputs": [],
   "source": [
    "api_key = \"xxxxxxxxxxxxxxxxxxxxxxxxxxxxxxxx\""
   ]
  },
  {
   "cell_type": "code",
   "execution_count": 2,
   "metadata": {},
   "outputs": [],
   "source": [
    "from apiclient.discovery import build"
   ]
  },
  {
   "cell_type": "code",
   "execution_count": 3,
   "metadata": {},
   "outputs": [],
   "source": [
    "youtube = build('youtube', 'v3', developerKey=api_key)"
   ]
  },
  {
   "cell_type": "code",
   "execution_count": 4,
   "metadata": {},
   "outputs": [],
   "source": [
    "req = youtube.search().list(part='snippet',\n",
    "                            q='avengers',\n",
    "                            type='video',\n",
    "                            maxResults=50)"
   ]
  },
  {
   "cell_type": "code",
   "execution_count": 5,
   "metadata": {},
   "outputs": [
    {
     "data": {
      "text/plain": [
       "googleapiclient.http.HttpRequest"
      ]
     },
     "execution_count": 5,
     "metadata": {},
     "output_type": "execute_result"
    }
   ],
   "source": [
    "type(req)"
   ]
  },
  {
   "cell_type": "code",
   "execution_count": 6,
   "metadata": {},
   "outputs": [],
   "source": [
    "res = req.execute()"
   ]
  },
  {
   "cell_type": "code",
   "execution_count": 7,
   "metadata": {},
   "outputs": [
    {
     "data": {
      "text/plain": [
       "{'kind': 'youtube#searchResult',\n",
       " 'etag': '\"XI7nbFXulYBIpL0ayR_gDh3eu1k/_NyYllRt8F8COZm6OLzQ4rDzKJM\"',\n",
       " 'id': {'kind': 'youtube#video', 'videoId': 'SLD9xzJ4oeU'},\n",
       " 'snippet': {'publishedAt': '2017-01-22T21:08:03.000Z',\n",
       "  'channelId': 'UClVbhSLxwws-KSsPKz135bw',\n",
       "  'title': 'Thor vs Hulk - Fight Scene - The Avengers (2012) Movie Clip HD',\n",
       "  'description': 'Thor vs Hulk - Fight Scene - The Avengers (2012) Movie Clip 1080p HD All material belongs to Disney and Marvel. Fair use. Copyright Disclaimer Under Section ...',\n",
       "  'thumbnails': {'default': {'url': 'https://i.ytimg.com/vi/SLD9xzJ4oeU/default.jpg',\n",
       "    'width': 120,\n",
       "    'height': 90},\n",
       "   'medium': {'url': 'https://i.ytimg.com/vi/SLD9xzJ4oeU/mqdefault.jpg',\n",
       "    'width': 320,\n",
       "    'height': 180},\n",
       "   'high': {'url': 'https://i.ytimg.com/vi/SLD9xzJ4oeU/hqdefault.jpg',\n",
       "    'width': 480,\n",
       "    'height': 360}},\n",
       "  'channelTitle': 'TopMovieClips',\n",
       "  'liveBroadcastContent': 'none'}}"
      ]
     },
     "execution_count": 7,
     "metadata": {},
     "output_type": "execute_result"
    }
   ],
   "source": [
    "res['items'][0]"
   ]
  },
  {
   "cell_type": "code",
   "execution_count": 8,
   "metadata": {},
   "outputs": [],
   "source": [
    "res = youtube.search().list(part='snippet', \n",
    "                            q='indian pythonista',\n",
    "                            type='channel').execute()"
   ]
  },
  {
   "cell_type": "code",
   "execution_count": 9,
   "metadata": {},
   "outputs": [
    {
     "data": {
      "text/plain": [
       "{'kind': 'youtube#searchListResponse',\n",
       " 'etag': '\"XI7nbFXulYBIpL0ayR_gDh3eu1k/QMDZili8SoSW-T_3vyVRDdhFATE\"',\n",
       " 'regionCode': 'IN',\n",
       " 'pageInfo': {'totalResults': 1, 'resultsPerPage': 5},\n",
       " 'items': [{'kind': 'youtube#searchResult',\n",
       "   'etag': '\"XI7nbFXulYBIpL0ayR_gDh3eu1k/3Jss0Yh2H4sujAOSdK9HF2hI9oU\"',\n",
       "   'id': {'kind': 'youtube#channel', 'channelId': 'UCkUq-s6z57uJFUFBvZIVTyg'},\n",
       "   'snippet': {'publishedAt': '2015-08-20T10:56:04.000Z',\n",
       "    'channelId': 'UCkUq-s6z57uJFUFBvZIVTyg',\n",
       "    'title': 'Indian Pythonista',\n",
       "    'description': 'I am an avid Pythonista and here to help you! Check out my blog: https://indianpythonista.wordpress.com Follow at: https://fb.me/IndianPythonista.',\n",
       "    'thumbnails': {'default': {'url': 'https://yt3.ggpht.com/-LHHjCp8a5-8/AAAAAAAAAAI/AAAAAAAAAAA/butVYqE5Jw0/s88-c-k-no-mo-rj-c0xffffff/photo.jpg'},\n",
       "     'medium': {'url': 'https://yt3.ggpht.com/-LHHjCp8a5-8/AAAAAAAAAAI/AAAAAAAAAAA/butVYqE5Jw0/s240-c-k-no-mo-rj-c0xffffff/photo.jpg'},\n",
       "     'high': {'url': 'https://yt3.ggpht.com/-LHHjCp8a5-8/AAAAAAAAAAI/AAAAAAAAAAA/butVYqE5Jw0/s800-c-k-no-mo-rj-c0xffffff/photo.jpg'}},\n",
       "    'channelTitle': 'Indian Pythonista',\n",
       "    'liveBroadcastContent': 'upcoming'}}]}"
      ]
     },
     "execution_count": 9,
     "metadata": {},
     "output_type": "execute_result"
    }
   ],
   "source": [
    "res"
   ]
  }
 ],
 "metadata": {
  "kernelspec": {
   "display_name": "Python 3",
   "language": "python",
   "name": "python3"
  },
  "language_info": {
   "codemirror_mode": {
    "name": "ipython",
    "version": 3
   },
   "file_extension": ".py",
   "mimetype": "text/x-python",
   "name": "python",
   "nbconvert_exporter": "python",
   "pygments_lexer": "ipython3",
   "version": "3.6.5"
  }
 },
 "nbformat": 4,
 "nbformat_minor": 2
}
