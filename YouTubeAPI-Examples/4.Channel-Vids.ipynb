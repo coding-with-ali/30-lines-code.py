{
 "cells": [
  {
   "cell_type": "markdown",
   "metadata": {},
   "source": [
    "# YouTube Data API (Get all videos of a channel)\n",
    "\n",
    "![](https://lh3.googleusercontent.com/j2SJC1grxLdL94kX7uB9WclD_nqX49oJs3K82Tok1MaPcx4TvB2m7xmw-Ub4dvFORwPSzruQBWePxtizfuY1r3j4GQvi1G9z=s688)\n",
    "\n",
    "[console.developers.google.com](https://console.developers.google.com/cloud-resource-manager)"
   ]
  },
  {
   "cell_type": "code",
   "execution_count": 1,
   "metadata": {},
   "outputs": [],
   "source": [
    "api_key = \"xxxxxxxxxxxxxxxxxxxxxxxxxxxxxxxx\""
   ]
  },
  {
   "cell_type": "code",
   "execution_count": 2,
   "metadata": {},
   "outputs": [],
   "source": [
    "from apiclient.discovery import build"
   ]
  },
  {
   "cell_type": "code",
   "execution_count": 3,
   "metadata": {},
   "outputs": [],
   "source": [
    "youtube = build('youtube', 'v3', developerKey=api_key)"
   ]
  },
  {
   "cell_type": "code",
   "execution_count": 4,
   "metadata": {},
   "outputs": [],
   "source": [
    "def get_channel_videos(channel_id):\n",
    "    \n",
    "    # get Uploads playlist id\n",
    "    res = youtube.channels().list(id=channel_id, \n",
    "                                  part='contentDetails').execute()\n",
    "    playlist_id = res['items'][0]['contentDetails']['relatedPlaylists']['uploads']\n",
    "    \n",
    "    videos = []\n",
    "    next_page_token = None\n",
    "    \n",
    "    while 1:\n",
    "        res = youtube.playlistItems().list(playlistId=playlist_id, \n",
    "                                           part='snippet', \n",
    "                                           maxResults=50,\n",
    "                                           pageToken=next_page_token).execute()\n",
    "        videos += res['items']\n",
    "        next_page_token = res.get('nextPageToken')\n",
    "        \n",
    "        if next_page_token is None:\n",
    "            break\n",
    "    \n",
    "    return videos"
   ]
  },
  {
   "cell_type": "code",
   "execution_count": 5,
   "metadata": {},
   "outputs": [],
   "source": [
    "videos = get_channel_videos('UCkUq-s6z57uJFUFBvZIVTyg')"
   ]
  },
  {
   "cell_type": "code",
   "execution_count": 6,
   "metadata": {},
   "outputs": [
    {
     "data": {
      "text/plain": [
       "108"
      ]
     },
     "execution_count": 6,
     "metadata": {},
     "output_type": "execute_result"
    }
   ],
   "source": [
    "len(videos)"
   ]
  },
  {
   "cell_type": "code",
   "execution_count": 7,
   "metadata": {
    "scrolled": false
   },
   "outputs": [
    {
     "name": "stdout",
     "output_type": "stream",
     "text": [
      "The Zen of Python, decoded.\n",
      "Progress Bar in Jupyter Notebook\n",
      "Calculating Cell Execution Time in Jupyter Notebook\n",
      "Running Shell Scripts in Jupyter Notebook\n",
      "Running Shell Commands in Jupyter Notebook\n",
      "Running Javascript Code in Jupyter Notebook\n",
      "interning in Python\n",
      "is vs == in Python\n",
      "Creating a Reliable, Random Web Proxy Request Application using Python\n",
      "classmethod decorator in Python\n",
      "staticmethod decorator in Python\n",
      "property decorator in Python\n",
      "Plotting real-time data using Python\n",
      "Caching in Python\n",
      "Making a meme generator using Python.\n",
      "Sending HTTP Requests through Proxy Server using Python\n",
      "Website login using requests in Python\n",
      "Parameterized Decorators in Python\n",
      "Decorators in Python\n",
      "Inside Python: How to decompile pyc files? (Part-4)\n",
      "Inside Python: How to run pyc files? (Part-3)\n",
      "Inside Python: How to create pyc files manually? (Part-2)\n",
      "Inside Python: What is bytecode and pyc files? (Part-1)\n",
      "Inside Python: Disassembling bytecode (Part-5)\n",
      "f-string in Python 3.6+\n",
      "Creating a simple Python Interactive Shell\n",
      "repr in Python\n",
      "Is Python call by value or call by reference?\n",
      "eval vs exec in Python\n",
      "copy in Python\n",
      "Sending Email using Python | Part-2\n",
      "Sending Email using Python | Part-1\n",
      "Google Search Query Suggestions API\n",
      "Computer Screen Recording using Python & OpenCV\n",
      "Redirect detective using Python\n",
      "Printing tables using Python\n",
      "Exploring datetime: Current date & time (Part-1)\n",
      "Exploring datetime: string to datetime object (Part-2)\n",
      "Exploring datetime: timedelta (Part-3)\n",
      "Exploring datetime: combining date & time (Part-4)\n",
      "Exploring datetime: display datetime (Part-5)\n",
      "Instant LAN file sharing using Python\n",
      "Fuzzy string matching using Python\n",
      "Process Android phone live stream using OpenCV and Python\n",
      "Exploring collections: OrderedDict in Python\n",
      "Exploring collections: Counter in Python\n",
      "Exploring collections: ChainMap in Python\n",
      "Exploring collections: defaultdict in Python\n",
      "Graph visualization using Python\n",
      "Simple & offline PDF audio reader using Python\n",
      "Google Assistant for Ubuntu Desktop\n",
      "\"Thug Life\" Live Camera Recording using Python\n",
      "\"Thug Life\" Photo Maker using Python\n",
      "WordCloud using Python\n",
      "mLab and Python | Part 1\n",
      "mLab and Python | Part 2\n",
      "Sets in Python 2 and Python 3\n",
      "Password Input in Python\n",
      "LinkBook (Django powered) | A social media for links!\n",
      "pickle in Python\n",
      "Scraping RSS feeds using Python\n",
      "Defining things using \"The awesome Wikidata API\"\n",
      "YAML for Python\n",
      "Generators in Python\n",
      "Iteration Protocol in Python\n",
      "User defined exceptions in Python\n",
      "Assertions in Python\n",
      "*args and **kwargs in Python\n",
      "Sorting by key in Python\n",
      "zip function in Python\n",
      "List comprehension in Python\n",
      "Concept behind : if __name__ == \"__main__\"\n",
      "reduce function in Python\n",
      "filter function in Python\n",
      "map function in Python\n",
      "lambda functions in Python\n",
      "Awesome Linux Terminal | cat command\n",
      "Awesome Linux Terminal | Creating, moving, renaming, deleting files and folders\n",
      "Awesome Linux Terminal | Navigating through Linux system\n",
      "range vs xrange in Python 2 and Python 3\n",
      "File downloader with a progress bar using Python\n",
      "Running Python Scripts in Interactive mode\n",
      "Hacking through Google's Text to Speech API\n",
      "OCR(Optical Character Recognition) using Tesseract and Python | Part-2\n",
      "OCR(Optical Character Recognition) using Tesseract and Python | Part-1\n",
      "Facebook Messenger Bot Tutorial  (using Python) | Exploring templates\n",
      "Learn how to expose a Local Server to Internet using ngrok\n",
      "Facebook Messenger Bot Tutorial  (using Python) | Wit.ai Integration (Part-2)\n",
      "Facebook Messenger Bot Tutorial  (using Python) | Wit.ai Integration (Part-1)\n",
      "Desktop Reminder Application Demo\n",
      "Wit.ai Speech Recognition Demo\n",
      "Facebook Messenger Bot Tutorial (using Python) | Heroku deployment\n",
      "Facebook Messenger Bot Tutorial (using Python) | Heroku setup\n",
      "Setting up Sublime Text for Competitive Coding\n",
      "Facebook Messenger Bot Tutorial  (using Python) | A basic echo bot\n",
      "Facebook Messenger Bot Tutorial  (using Python) | Receiving messages\n",
      "Facebook Messenger Bot Tutorial  (using Python) | Setting up webhook\n",
      "Facebook Messenger Bot Tutorial (using Python) | Setting up the project\n",
      "Facebook Messenger Bot Tutorial  (using Python) | Creating a Facebook App\n",
      "Implementing Web Scraping in Python with BeautifulSoup\n",
      "basic animation\n",
      "basic animation\n",
      "Mycodebot - Upload and run your code on messenger itself! (Sample run 2)\n",
      "Mycodebot - Compile and run your code on messenger itself! (Sample run 1)\n",
      "Mycodebot - A 'light' PDF generator for any geeksforgeeks article.\n",
      "C++ game ::2048\n",
      "C++ game (the old snake game)\n",
      "C++ game\n"
     ]
    }
   ],
   "source": [
    "for video in videos:\n",
    "    print(video['snippet']['title'])"
   ]
  }
 ],
 "metadata": {
  "kernelspec": {
   "display_name": "Python 3",
   "language": "python",
   "name": "python3"
  },
  "language_info": {
   "codemirror_mode": {
    "name": "ipython",
    "version": 3
   },
   "file_extension": ".py",
   "mimetype": "text/x-python",
   "name": "python",
   "nbconvert_exporter": "python",
   "pygments_lexer": "ipython3",
   "version": "3.6.5"
  }
 },
 "nbformat": 4,
 "nbformat_minor": 2
}
