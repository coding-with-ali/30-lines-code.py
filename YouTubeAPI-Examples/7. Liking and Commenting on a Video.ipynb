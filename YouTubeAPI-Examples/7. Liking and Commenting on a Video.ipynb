{
 "cells": [
  {
   "cell_type": "markdown",
   "metadata": {},
   "source": [
    "# YouTube Data API (Liking and Commenting on a Video)\n",
    " \n",
    "![](https://lh3.googleusercontent.com/j2SJC1grxLdL94kX7uB9WclD_nqX49oJs3K82Tok1MaPcx4TvB2m7xmw-Ub4dvFORwPSzruQBWePxtizfuY1r3j4GQvi1G9z=s688)\n",
    "\n",
    "https://developers.google.com/youtube/v3/docs/commentThreads/insert\n",
    "\n",
    "https://developers.google.com/youtube/v3/docs/videos/rate"
   ]
  },
  {
   "cell_type": "code",
   "execution_count": 1,
   "metadata": {},
   "outputs": [],
   "source": [
    "from apiclient.discovery import build\n",
    "from google_auth_oauthlib.flow import InstalledAppFlow"
   ]
  },
  {
   "cell_type": "code",
   "execution_count": 2,
   "metadata": {},
   "outputs": [],
   "source": [
    "CLIENT_SECRET_FILE = 'client_secret.json'\n",
    "SCOPES = ['https://www.googleapis.com/auth/youtube.force-ssl']"
   ]
  },
  {
   "cell_type": "code",
   "execution_count": 3,
   "metadata": {},
   "outputs": [
    {
     "name": "stdout",
     "output_type": "stream",
     "text": [
      "Please visit this URL to authorize this application: https://accounts.google.com/o/oauth2/auth?response_type=code&client_id=6631336435-4sks7qhtsoqph3nafga96clpk2d3i8vo.apps.googleusercontent.com&redirect_uri=urn%3Aietf%3Awg%3Aoauth%3A2.0%3Aoob&scope=https%3A%2F%2Fwww.googleapis.com%2Fauth%2Fyoutube.force-ssl&state=7dp03MB5EzxC97fvpLA7IKikXQRXl9&prompt=consent&access_type=offline\n",
      "Enter the authorization code: 4/8QCrJFdplNpwuGFWrE55xzdu6eSo53NCv9sAPAeYrk-U-uc8EcbbGr8\n"
     ]
    }
   ],
   "source": [
    "flow = InstalledAppFlow.from_client_secrets_file(CLIENT_SECRET_FILE, SCOPES)\n",
    "credentials = flow.run_console()\n",
    "youtube = build('youtube', 'v3', credentials=credentials)"
   ]
  },
  {
   "cell_type": "code",
   "execution_count": 6,
   "metadata": {
    "scrolled": true
   },
   "outputs": [
    {
     "data": {
      "text/plain": [
       "''"
      ]
     },
     "execution_count": 6,
     "metadata": {},
     "output_type": "execute_result"
    }
   ],
   "source": [
    "youtube.videos().rate(rating='like', id='jWh0FaRRZC4').execute()"
   ]
  },
  {
   "cell_type": "code",
   "execution_count": 7,
   "metadata": {},
   "outputs": [],
   "source": [
    "def insert_comment(youtube, channel_id, video_id, text):\n",
    "    insert_result = youtube.commentThreads().insert(\n",
    "        part=\"snippet\",\n",
    "        body=dict(\n",
    "            snippet=dict(\n",
    "                channelId=channel_id,\n",
    "                videoId=video_id,\n",
    "                topLevelComment=dict(\n",
    "                    snippet=dict(\n",
    "                        textOriginal=text)\n",
    "                )\n",
    "            )\n",
    "        )\n",
    "    ).execute()\n",
    "\n",
    "    comment = insert_result[\"snippet\"][\"topLevelComment\"]\n",
    "    author = comment[\"snippet\"][\"authorDisplayName\"]\n",
    "    text = comment[\"snippet\"][\"textDisplay\"]\n",
    "    print(\"Inserted comment for %s: %s\" % (author, text))"
   ]
  },
  {
   "cell_type": "code",
   "execution_count": 8,
   "metadata": {},
   "outputs": [
    {
     "name": "stdout",
     "output_type": "stream",
     "text": [
      "Inserted comment for Indian Pythonista: testing....\n"
     ]
    }
   ],
   "source": [
    "insert_comment(youtube, 'UCkUq-s6z57uJFUFBvZIVTyg', 'jWh0FaRRZC4', \"testing....\")"
   ]
  }
 ],
 "metadata": {
  "kernelspec": {
   "display_name": "Python 3",
   "language": "python",
   "name": "python3"
  },
  "language_info": {
   "codemirror_mode": {
    "name": "ipython",
    "version": 3
   },
   "file_extension": ".py",
   "mimetype": "text/x-python",
   "name": "python",
   "nbconvert_exporter": "python",
   "pygments_lexer": "ipython3",
   "version": "3.6.7"
  }
 },
 "nbformat": 4,
 "nbformat_minor": 2
}
